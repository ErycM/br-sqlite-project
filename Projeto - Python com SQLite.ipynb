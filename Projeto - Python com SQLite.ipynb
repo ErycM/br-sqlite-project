{
 "cells": [
  {
   "cell_type": "markdown",
   "source": [
    "# Awari - Data Science\n",
    "\n",
    "## Projeto - Python com SQLite\n",
    "\n",
    "## 1. Considerações iniciais\n",
    "\n",
    "Para que você assimile melhor os comandos do SQL, preparamos este projeto de Python com SQLite. Neste notebook Jupyter, você irá reforçando alguns conceitos da unidade atual e deverá executar algumas tarefas pelo caminho. Todo o projeto deve ser executado neste Jupyter Notebook. Por fim, se desejar, revise as respostas com o seu mentor.\n",
    "\n",
    "### 1.1. Por que SQLite?\n",
    "O SQLite é uma pequena biblioteca em C que possui um banco de dados SQL embutido. Sem o apoio de um poderoso SGDB (Sistema de Gerenciamento de Banco de Dados) como nas soluções do mercado, o SQLite é ideal para fins de aprendizagem, pois sua instalação é fácil e não requer nenhuma configuração inicial. Deste modo, podemos focar nos comandos do SQL.\n",
    "\n",
    "### 1.2. Prepare seu ambiente\n",
    "Baixe e instale o SQLite antes de começar. Resumidamente, você irá acessar a página de [Downloads](https://www.sqlite.org/download.html) do SQLite e baixar os executáveis para a mesma pasta deste notebook. Caso você encontre dificuldades:\n",
    "\n",
    "- Assista a este [vídeo](https://www.youtube.com/watch?v=VcKKt6OTlJc) para \"instalar\" o SQLite no Windows ou;\n",
    "- Ou siga este [manual](http://www.devfuria.com.br/linux/instalando-sqlite/) para as plataformas Linux.\n",
    "\n",
    "### 1.3. Conjunto de dados\n",
    "\n",
    "O conjunto de dados que iremos utilizar é derivado do [Titanic](https://www.kaggle.com/c/titanic/data). Na verdade, dividimos o conjunto em dois arquivos CSV - [passageiros](passageiros.csv) e [passagens](passagens.csv). Cada um destes arquivo serão inseridos dentro do SQLite como tabelas, onde você executará suas consultas SQL.\n",
    "\n",
    "#### 1.3.1. Descrição do dados\n",
    "\n",
    "No arquivo [passageiros](passageiros.csv), você encontrará:\n",
    "- PassengerId: Id do passageiro\n",
    "- Survived: Se o passageiro sobreviveu ou não. Se 0, então não sobreviveu. Se 1, sobreviveu.\n",
    "- Pclass: Classe em que o passageiro estava viajando. Se 1, então estava na primeira classe e assim por diante.\n",
    "- Name: Nome do passageiro.\n",
    "- Sex: Gênero do passageiro. Masculino ou feminino.\n",
    "- Age: Idade.\n",
    "- Sibsp: número de irmãos / esposas a bordo do navio.\n",
    "- Parch: número de pais / filhos a bordo do navio.\n",
    "\n",
    "E no arquivo [passagens](passagens.csv):\n",
    "- PassengerId: Id do passageiro\n",
    "- Ticket: número do ticket de embarque\n",
    "- Fare: valor pago pelo ticket.\n",
    "- Cabin: cabine do passageiro.\n",
    "- Embarked: porto de embarque do passageiro. C = Cherbourg, Q = Queenstown e S = Southampton\n"
   ],
   "metadata": {}
  },
  {
   "cell_type": "markdown",
   "source": [
    "## 2. Procedimentos\n",
    "\n",
    "### 2.1. Leitura dos arquivos CSV\n",
    "Antes de importarmos os dados dentro das tabelas, precisamos começar lendo os arquivos CSV. O pequeno código abaixo importa os dados do CSV em uma lista de dicionários em Python."
   ],
   "metadata": {}
  },
  {
   "cell_type": "code",
   "execution_count": 17,
   "source": [
    "import csv \r\n",
    "\r\n",
    "def importar_csv(arquivo):\r\n",
    "    dados = []\r\n",
    "    with open(arquivo) as arq:\r\n",
    "        leitor = csv.DictReader(arq)\r\n",
    "        for l in leitor:\r\n",
    "            dados.append(dict(l))\r\n",
    "    \r\n",
    "    print('O conjunto de dados tem %s registros.' % len(dados))\r\n",
    "    \r\n",
    "    return dados"
   ],
   "outputs": [],
   "metadata": {
    "collapsed": true
   }
  },
  {
   "cell_type": "markdown",
   "source": [
    "### TAREFA 01\n",
    "\n",
    "1. Importe o arquivo passagens.csv usando o mesmo código anterior.\n",
    "2. Atualize as partes contendo `...` com o que falta no seu código\n",
    "\n",
    "**DICA**: Não reinvente a roda, reutilize a função anterior."
   ],
   "metadata": {}
  },
  {
   "cell_type": "code",
   "execution_count": 18,
   "source": [
    "# Insira seu código aqui\r\n",
    "passagens = importar_csv('passagens.csv')"
   ],
   "outputs": [
    {
     "output_type": "stream",
     "name": "stdout",
     "text": [
      "O conjunto de dados tem 891 registros.\n"
     ]
    }
   ],
   "metadata": {
    "collapsed": false
   }
  },
  {
   "cell_type": "markdown",
   "source": [
    "### TAREFA 02\n",
    "1. Importe o arquivo passageiros.csv usando o mesmo código anterior."
   ],
   "metadata": {}
  },
  {
   "cell_type": "code",
   "execution_count": 19,
   "source": [
    "# Insira seu código aqui\r\n",
    "passageiros = importar_csv('passageiros.csv')"
   ],
   "outputs": [
    {
     "output_type": "stream",
     "name": "stdout",
     "text": [
      "O conjunto de dados tem 891 registros.\n"
     ]
    }
   ],
   "metadata": {
    "collapsed": true
   }
  },
  {
   "cell_type": "markdown",
   "source": [
    "### 2.2. Criando o banco de dados\n",
    "Para manipular um banco SQLite com Python, temos que utilizar uma biblioteca específica."
   ],
   "metadata": {}
  },
  {
   "cell_type": "code",
   "execution_count": 20,
   "source": [
    "import sqlite3\r\n",
    "conn = sqlite3.connect('titanic.db')"
   ],
   "outputs": [],
   "metadata": {
    "collapsed": true
   }
  },
  {
   "cell_type": "markdown",
   "source": [
    "O comando acima cria o arquivo [titanic.db](titanic.db), que armazará nossos dados."
   ],
   "metadata": {}
  },
  {
   "cell_type": "markdown",
   "source": [
    "### 2.3. Criando as tabelas\n",
    "Neste momento, temos do dados e o banco SQLlite. Então é hora de começar à usar comandos SQL para criar as tabelas que armazenarão nossos dados dentro do banco.\n",
    "\n",
    "No SQLlite, precisamos primeiro criar uma conexão e um cursor para executar nossos comandos no banco. Para facilicar, o código abaixo facilita este processo. Você só precisa passar seu comando SQL para a função."
   ],
   "metadata": {}
  },
  {
   "cell_type": "code",
   "execution_count": 21,
   "source": [
    "def executa(comando):\r\n",
    "    cursor = conn.cursor()\r\n",
    "    cursor.execute(comando)\r\n",
    "    cursor.close()"
   ],
   "outputs": [],
   "metadata": {
    "collapsed": true
   }
  },
  {
   "cell_type": "markdown",
   "source": [
    "Não execute o comando abaixo, pois ele dá um erro. É só um exemplo"
   ],
   "metadata": {}
  },
  {
   "cell_type": "code",
   "execution_count": 22,
   "source": [
    "# Exemplo\r\n",
    "#comando = '<SEU_COMANDO_AQUI>'\r\n",
    "#executa(comando)"
   ],
   "outputs": [],
   "metadata": {
    "collapsed": true
   }
  },
  {
   "cell_type": "markdown",
   "source": [
    "### TAREFA 03\n",
    "1. Cria a tabela passageiros.\n",
    "2. PassengerId deve ser a chave primária.\n",
    "3. Atualize as partes contendo `...` com o que falta no seu código"
   ],
   "metadata": {}
  },
  {
   "cell_type": "code",
   "execution_count": 23,
   "source": [
    "# Insira seu código aqui\r\n",
    "tabela_passageiros_comando = \"\"\"\r\n",
    "CREATE TABLE passageiros(PassengerId INTEGER NOT NULL PRIMARY KEY, Survived INTEGER NOT NULL, Pclass INTEGER NOT NULL, Name VARCHAR(200), Sex VARCHAR(20), Age INTEGER, SibSp INTEGER, Parch INTEGER);\r\n",
    "\"\"\""
   ],
   "outputs": [],
   "metadata": {
    "collapsed": true
   }
  },
  {
   "cell_type": "code",
   "execution_count": 25,
   "source": [
    "executa(tabela_passageiros_comando)"
   ],
   "outputs": [],
   "metadata": {
    "collapsed": true
   }
  },
  {
   "cell_type": "markdown",
   "source": [
    "### TAREFA 04\n",
    "1. Cria a tabela passagens.\n",
    "2. PassengerId deve ser a chave primária.\n",
    "3. Atualize as partes contendo `...` com o que falta no seu código"
   ],
   "metadata": {}
  },
  {
   "cell_type": "code",
   "execution_count": 26,
   "source": [
    "# Insira seu código aqui\r\n",
    "tabela_passagens_comando = \"\"\"\r\n",
    "CREATE TABLE passagens(PassengerId INTEGER NOT NULL PRIMARY KEY, Ticket VARCHAR(200), Fare DECIMAL(9,2), Cabin VARCHAR(20), Embarked VARCHAR(5));\r\n",
    "\"\"\"\r\n"
   ],
   "outputs": [],
   "metadata": {
    "collapsed": true
   }
  },
  {
   "cell_type": "code",
   "execution_count": 28,
   "source": [
    "executa(tabela_passagens_comando)"
   ],
   "outputs": [],
   "metadata": {
    "collapsed": true
   }
  },
  {
   "cell_type": "markdown",
   "source": [
    "**Atenção:** Caso você tente executar os comandos de criação de tabelas mais de uma vez, perceberá um erro de operação informando que a tabela já existe.\r\n",
    "\r\n",
    "Vamos verificar se as tabelas foram realmente criadas? Abra o terminal e na pasta atual digite:\r\n",
    "```\r\n",
    "$ sqlite3 titanic.db \".tables\"\r\n",
    "```\r\n",
    "O terminal deve retornar com as tabelas existentes em seu banco [titanic.db](titanic.db). Neste casos, *passageiros* e *passagens*. Lembre-se que neste momento, não temos nenhum dado inseridos nas tabelas.\r\n",
    "\r\n",
    "Caso queira verifcar mais algumas informações das tabelas criadas, pode executar esta outra instrução:\r\n",
    "```\r\n",
    "$ sqlite3 titanic.db \"PRAGMA table_info(passageiros)\"\r\n",
    "```"
   ],
   "metadata": {}
  },
  {
   "cell_type": "markdown",
   "source": [
    "### TAREFA 05\n",
    "1. Pelo terminal, verifique mais informações da tabela passagens."
   ],
   "metadata": {}
  },
  {
   "cell_type": "markdown",
   "source": [
    "### 2.4. Inserindo dados nas tabelas\n",
    "Usando o comando INSERT INTO, vamos popular as nossas tabelas. O processo é simples, percorremos as listas de dicionários, montamos nosso comando INSERT INTO e executamos - uma a uma. Para a tabela passageiros:"
   ],
   "metadata": {}
  },
  {
   "cell_type": "code",
   "execution_count": 29,
   "source": [
    "for p in passageiros:\r\n",
    "    p['Name'] = p['Name'].replace('\"', \"'\")\r\n",
    "    inserir_passageiro = (\"\"\"\r\n",
    "    INSERT INTO passageiros(PassengerId, Survived, Pclass, Name, Sex, Age, Sibsp, Parch)\r\n",
    "    VALUES (%s, \"%s\", \"%s\", \"%s\", \"%s\", \"%s\", \"%s\", \"%s\")\"\"\") % (p['PassengerId'], p['Survived'], p['Pclass'],\r\n",
    "                                                                 p['Name'], p['Sex'], p['Age'], p['SibSp'],\r\n",
    "                                                                 p['Parch'])\r\n",
    "    executa(inserir_passageiro)"
   ],
   "outputs": [],
   "metadata": {
    "collapsed": true
   }
  },
  {
   "cell_type": "markdown",
   "source": [
    "### TAREFA 06\n",
    "1. Insira os dados de passagens dentro da tabela passagens"
   ],
   "metadata": {}
  },
  {
   "cell_type": "code",
   "execution_count": 30,
   "source": [
    "# Insira seu código aqui\r\n",
    "for p in passagens:\r\n",
    "    inserir_passagens = (\"\"\"\r\n",
    "    INSERT INTO passagens(PassengerId, Ticket, Fare, Cabin, Embarked)\r\n",
    "    VALUES (%s, \"%s\", \"%s\", \"%s\", \"%s\")\"\"\") % (p['PassengerId'], p['Ticket'], p['Fare'], \r\n",
    "                                               p['Cabin'], p['Embarked'])\r\n",
    "    executa(inserir_passagens)"
   ],
   "outputs": [],
   "metadata": {
    "collapsed": true
   }
  },
  {
   "cell_type": "markdown",
   "source": [
    "### 2.5. Executando consultas\n",
    "Agora que os dados estão inseridos no arquivo banco SQLite, vamos executar alguns consultas. Vamos começar fazendo uma seleção de todas as colunas das tabelas.\n",
    "\n",
    "O comando SELECT retorna dados, deste modo, precisamos fazer alguma alteração na função executa. utilize o *executa_consulta()*."
   ],
   "metadata": {}
  },
  {
   "cell_type": "code",
   "execution_count": 31,
   "source": [
    "def executa_consulta(consulta):\r\n",
    "    cursor = conn.cursor()\r\n",
    "    cursor.execute(consulta)\r\n",
    "    for linha in cursor.fetchall():\r\n",
    "        print(linha)\r\n",
    "    \r\n",
    "    cursor.close()"
   ],
   "outputs": [],
   "metadata": {
    "collapsed": true
   }
  },
  {
   "cell_type": "markdown",
   "source": [
    "Testando nosso código. Repare que o comando LIMIT foi utilizado para limitar a quantidade de linhas."
   ],
   "metadata": {}
  },
  {
   "cell_type": "code",
   "execution_count": 32,
   "source": [
    "consulta_passageiro = \"\"\"SELECT * FROM PASSAGEIROS LIMIT 10\"\"\"\r\n",
    "executa_consulta(consulta_passageiro)"
   ],
   "outputs": [
    {
     "output_type": "stream",
     "name": "stdout",
     "text": [
      "(1, 0, 3, 'Braund, Mr. Owen Harris', 'male', 22, 1, 0)\n",
      "(2, 1, 1, 'Cumings, Mrs. John Bradley (Florence Briggs Thayer)', 'female', 38, 1, 0)\n",
      "(3, 1, 3, 'Heikkinen, Miss. Laina', 'female', 26, 0, 0)\n",
      "(4, 1, 1, 'Futrelle, Mrs. Jacques Heath (Lily May Peel)', 'female', 35, 1, 0)\n",
      "(5, 0, 3, 'Allen, Mr. William Henry', 'male', 35, 0, 0)\n",
      "(6, 0, 3, 'Moran, Mr. James', 'male', '', 0, 0)\n",
      "(7, 0, 1, 'McCarthy, Mr. Timothy J', 'male', 54, 0, 0)\n",
      "(8, 0, 3, 'Palsson, Master. Gosta Leonard', 'male', 2, 3, 1)\n",
      "(9, 1, 3, 'Johnson, Mrs. Oscar W (Elisabeth Vilhelmina Berg)', 'female', 27, 0, 2)\n",
      "(10, 1, 2, 'Nasser, Mrs. Nicholas (Adele Achem)', 'female', 14, 1, 0)\n"
     ]
    }
   ],
   "metadata": {
    "collapsed": false
   }
  },
  {
   "cell_type": "code",
   "execution_count": 33,
   "source": [
    "consulta_passagens = \"\"\"SELECT * FROM PASSAGENS LIMIT 10\"\"\"\r\n",
    "executa_consulta(consulta_passagens)"
   ],
   "outputs": [
    {
     "output_type": "stream",
     "name": "stdout",
     "text": [
      "(1, 'A/5 21171', 7.25, '', 'S')\n",
      "(2, 'PC 17599', 71.2833, 'C85', 'C')\n",
      "(3, 'STON/O2. 3101282', 7925, '', 'S')\n",
      "(4, '113803', 53.1, 'C123', 'S')\n",
      "(5, '373450', 8.05, '', 'S')\n",
      "(6, '330877', 8.4583, '', 'Q')\n",
      "(7, '17463', 51.8625, 'E46', 'S')\n",
      "(8, '349909', 21075, '', 'S')\n",
      "(9, '347742', 11.1333, '', 'S')\n",
      "(10, '237736', 30.0708, '', 'C')\n"
     ]
    }
   ],
   "metadata": {
    "collapsed": true
   }
  },
  {
   "cell_type": "markdown",
   "source": [
    "Também podemos imprimir mais informações sobre uma tabela usando o seguinte comando:"
   ],
   "metadata": {}
  },
  {
   "cell_type": "code",
   "execution_count": 34,
   "source": [
    "executa_consulta('pragma table_info(passageiros)')"
   ],
   "outputs": [
    {
     "output_type": "stream",
     "name": "stdout",
     "text": [
      "(0, 'PassengerId', 'INTEGER', 1, None, 1)\n",
      "(1, 'Survived', 'INTEGER', 1, None, 0)\n",
      "(2, 'Pclass', 'INTEGER', 1, None, 0)\n",
      "(3, 'Name', 'VARCHAR(200)', 0, None, 0)\n",
      "(4, 'Sex', 'VARCHAR(20)', 0, None, 0)\n",
      "(5, 'Age', 'INTEGER', 0, None, 0)\n",
      "(6, 'SibSp', 'INTEGER', 0, None, 0)\n",
      "(7, 'Parch', 'INTEGER', 0, None, 0)\n"
     ]
    }
   ],
   "metadata": {
    "collapsed": true
   }
  },
  {
   "cell_type": "markdown",
   "source": [
    "### TAREFA 07\n",
    "1. Verifique quantos tipos de classe (PClass) existem na tabela passageiros."
   ],
   "metadata": {}
  },
  {
   "cell_type": "code",
   "execution_count": 35,
   "source": [
    "# Insira seu código aqui\r\n",
    "consulta = \"\"\"SELECT DISTINCT(Pclass) FROM passageiros\"\"\"\r\n",
    "executa_consulta(consulta)"
   ],
   "outputs": [
    {
     "output_type": "stream",
     "name": "stdout",
     "text": [
      "(3,)\n",
      "(1,)\n",
      "(2,)\n"
     ]
    }
   ],
   "metadata": {
    "collapsed": false
   }
  },
  {
   "cell_type": "markdown",
   "source": [
    "### TAREFA 08\n",
    "1. Selecione os passageiros do sexo masculino (Sex) e que estejam na segunda classe (PClass).\n",
    "\n",
    "**DICA**: Use a cláusula WHERE e uma condicional (AND ou OR)."
   ],
   "metadata": {}
  },
  {
   "cell_type": "code",
   "execution_count": 36,
   "source": [
    "# Insira seu código aqui\r\n",
    "consulta = \"\"\"SELECT Name FROM passageiros WHERE Sex='male' and PClass=2\"\"\"\r\n",
    "executa_consulta(consulta)"
   ],
   "outputs": [
    {
     "output_type": "stream",
     "name": "stdout",
     "text": [
      "('Williams, Mr. Charles Eugene',)\n",
      "('Fynney, Mr. Joseph J',)\n",
      "('Beesley, Mr. Lawrence',)\n",
      "('Wheadon, Mr. Edward H',)\n",
      "('Jenkin, Mr. Stephen Curnow',)\n",
      "('Hood, Mr. Ambrose Jr',)\n",
      "('Caldwell, Master. Alden Gates',)\n",
      "('Kantor, Mr. Sinai',)\n",
      "('Turpin, Mr. William John Robert',)\n",
      "('Hickman, Mr. Stanley George',)\n",
      "('Nasser, Mr. Nicholas',)\n",
      "('Sobey, Mr. Samuel James Hayden',)\n",
      "('Richard, Mr. Emile',)\n",
      "('Andrew, Mr. Edgardo Samuel',)\n",
      "('Nicholls, Mr. Joseph Charles',)\n",
      "(\"Navratil, Mr. Michel ('Louis M Hoffman')\",)\n",
      "('Byles, Rev. Thomas Roussel Davids',)\n",
      "('Bateman, Rev. Robert James',)\n",
      "('Hale, Mr. Reginald',)\n",
      "('Pernot, Mr. Rene',)\n",
      "('Becker, Master. Richard F',)\n",
      "('Carbines, Mr. William',)\n",
      "('Navratil, Master. Michel M',)\n",
      "('Givard, Mr. Hans Kristensen',)\n",
      "('Jacobsohn, Mr. Sidney Samuel',)\n",
      "('Harris, Mr. Walter',)\n",
      "('Bracken, Mr. James H',)\n",
      "('Mellors, Mr. William John',)\n",
      "('Fahlstrom, Mr. Arne Jonas',)\n",
      "('Sjostedt, Mr. Ernst Adolf',)\n",
      "('Leyson, Mr. Robert William Norman',)\n",
      "('Hold, Mr. Stephen',)\n",
      "('Pengelly, Mr. Frederick William',)\n",
      "('Hunt, Mr. George Henry',)\n",
      "('Coleridge, Mr. Reginald Charles',)\n",
      "('Carter, Rev. Ernest Courtenay',)\n",
      "('Reeves, Mr. David',)\n",
      "(\"Parkes, Mr. Francis 'Frank'\",)\n",
      "('Hosono, Mr. Masabumi',)\n",
      "('Levy, Mr. Rene Jacques',)\n",
      "('Abelson, Mr. Samuel',)\n",
      "('Hart, Mr. Benjamin',)\n",
      "('Moraweck, Dr. Ernest',)\n",
      "('Navratil, Master. Edmond Roger',)\n",
      "('Collander, Mr. Erik Gustaf',)\n",
      "('Sedgwick, Mr. Charles Frederick Waddington',)\n",
      "('Fox, Mr. Stanley Hubert',)\n",
      "('del Carlo, Mr. Sebastiano',)\n",
      "('Davies, Mr. Charles Henry',)\n",
      "('McKane, Mr. Peter David',)\n",
      "('Pain, Dr. Alfred',)\n",
      "('Gale, Mr. Shadrach',)\n",
      "('Richards, Master. William Rowe',)\n",
      "('Cunningham, Mr. Alfred Fleming',)\n",
      "('Matthews, Mr. William John',)\n",
      "('Kvillner, Mr. Johan Henrik Johannesson',)\n",
      "('West, Mr. Edwy Arthur',)\n",
      "('Milling, Mr. Jacob Christian',)\n",
      "('Campbell, Mr. William',)\n",
      "('Renouf, Mr. Peter Henry',)\n",
      "(\"Frost, Mr. Anthony Wood 'Archie'\",)\n",
      "('Hocking, Mr. Richard George',)\n",
      "('Beane, Mr. Edward',)\n",
      "('Padro y Manent, Mr. Julian',)\n",
      "('Davies, Master. John Morgan Jr',)\n",
      "('Sharp, Mr. Percival James R',)\n",
      "('Norman, Mr. Robert Douglas',)\n",
      "('Harris, Mr. George',)\n",
      "('Downton, Mr. William James',)\n",
      "('Jarvis, Mr. John Denzil',)\n",
      "('Chapman, Mr. John Henry',)\n",
      "('Gavey, Mr. Lawrence',)\n",
      "('Kirkland, Rev. Charles Leonard',)\n",
      "('Collyer, Mr. Harvey',)\n",
      "('Hickman, Mr. Leonard Mark',)\n",
      "('Eitemiller, Mr. George Floyd',)\n",
      "('Hickman, Mr. Lewis',)\n",
      "('Butler, Mr. Reginald Fenton',)\n",
      "('Mitchell, Mr. Henry Michael',)\n",
      "('Wilhelms, Mr. Charles',)\n",
      "('Watson, Mr. Ennis Hastings',)\n",
      "('Brown, Mr. Thomas William Solomon',)\n",
      "('Laroche, Mr. Joseph Philippe Lemercier',)\n",
      "('Chapman, Mr. Charles Henry',)\n",
      "(\"Morley, Mr. Henry Samuel ('Mr Henry Marshall')\",)\n",
      "('Greenberg, Mr. Samuel',)\n",
      "('Gillespie, Mr. William Henry',)\n",
      "('Hodges, Mr. Henry Price',)\n",
      "('Bryhl, Mr. Kurt Arnold Gottfrid',)\n",
      "('Knight, Mr. Robert J',)\n",
      "('Berriman, Mr. William John',)\n",
      "('Troupiansky, Mr. Moses Aaron',)\n",
      "('Hamalainen, Master. Viljo',)\n",
      "('Bailey, Mr. Percy Andrew',)\n",
      "('Gaskell, Mr. Alfred',)\n",
      "('Otter, Mr. Richard',)\n",
      "('Ponesell, Mr. Martin',)\n",
      "('Meyer, Mr. August',)\n",
      "('Slemen, Mr. Richard James',)\n",
      "('Mallet, Mr. Albert',)\n",
      "('Mallet, Master. Andre',)\n",
      "('Richards, Master. George Sibley',)\n",
      "('Mudd, Mr. Thomas Charles',)\n",
      "('Harper, Rev. John',)\n",
      "('Giles, Mr. Frederick Edward',)\n",
      "('Gill, Mr. John William',)\n",
      "('Banfield, Mr. Frederick James',)\n",
      "('Montvila, Rev. Juozas',)\n"
     ]
    }
   ],
   "metadata": {
    "collapsed": false
   }
  },
  {
   "cell_type": "markdown",
   "source": [
    "### TAREFA 09\n",
    "1. Conte quantos passageiros existem por sexo.\n",
    "\n",
    "**DICA**: Use GROUP BY e COUNT()."
   ],
   "metadata": {}
  },
  {
   "cell_type": "code",
   "execution_count": 37,
   "source": [
    "# Insira seu código aqui\r\n",
    "consulta = \"\"\"SELECT Sex, count(PassengerId) FROM passageiros GROUP BY Sex\"\"\"\r\n",
    "executa_consulta(consulta)"
   ],
   "outputs": [
    {
     "output_type": "stream",
     "name": "stdout",
     "text": [
      "('female', 314)\n",
      "('male', 577)\n"
     ]
    }
   ],
   "metadata": {
    "collapsed": false
   }
  },
  {
   "cell_type": "markdown",
   "source": [
    "### TAREFA 10\n",
    "1. Verifique o valor médio das passagens em cada porto de embarque\n",
    "\n",
    "**DICA**: Use GROUP BY e AVG(). A presença de valores missing pode apresentar alguns resultados estranhos."
   ],
   "metadata": {}
  },
  {
   "cell_type": "code",
   "execution_count": 38,
   "source": [
    "# Insira seu código aqui\r\n",
    "# consulta = \"\"\"pragma table_info(passagens)\"\"\"\r\n",
    "consulta = \"\"\"select AVG(Fare), Embarked from passagens group by Embarked\"\"\"\r\n",
    "\r\n",
    "executa_consulta(consulta)"
   ],
   "outputs": [
    {
     "output_type": "stream",
     "name": "stdout",
     "text": [
      "(80.0, '')\n",
      "(12709.34566190476, 'C')\n",
      "(2002.8429129870128, 'Q')\n",
      "(2015.3069857142902, 'S')\n"
     ]
    }
   ],
   "metadata": {
    "collapsed": false
   }
  },
  {
   "cell_type": "markdown",
   "source": [
    "### TAREFA 11\n",
    "1. Selecione o nome (Name), sexo(Sex) e tarifa(Fare) paga de 5 passageiros\n",
    "2. Utilize as tabelas passageiros e passagens.\n",
    "\n",
    "**DICA**: Use JOIN."
   ],
   "metadata": {}
  },
  {
   "cell_type": "code",
   "execution_count": 39,
   "source": [
    "# Insira seu código aqui\r\n",
    "# Insira seu código aqui\r\n",
    "consulta = \"\"\"SELECT pr.Name, pr.Sex, ps.Fare FROM passageiros pr INNER JOIN passagens ps ON pr.PassengerId = ps.PassengerId LIMIT 5\"\"\"\r\n",
    "executa_consulta(consulta)"
   ],
   "outputs": [
    {
     "output_type": "stream",
     "name": "stdout",
     "text": [
      "('Braund, Mr. Owen Harris', 'male', 7.25)\n",
      "('Cumings, Mrs. John Bradley (Florence Briggs Thayer)', 'female', 71.2833)\n",
      "('Heikkinen, Miss. Laina', 'female', 7925)\n",
      "('Futrelle, Mrs. Jacques Heath (Lily May Peel)', 'female', 53.1)\n",
      "('Allen, Mr. William Henry', 'male', 8.05)\n"
     ]
    }
   ],
   "metadata": {
    "collapsed": false
   }
  },
  {
   "cell_type": "markdown",
   "source": [
    "### TAREFA 12\n",
    "1. Selecione o valor máximo (Fare) das passagens por classe."
   ],
   "metadata": {}
  },
  {
   "cell_type": "code",
   "execution_count": 40,
   "source": [
    "# Insira seu código aqui\r\n",
    "consulta = \"\"\"select MAX(Fare), Pclass from passageiros pr, passagens ps where ps.PassengerId = pr.PassengerId  group by Pclass \"\"\"\r\n",
    "executa_consulta(consulta)"
   ],
   "outputs": [
    {
     "output_type": "stream",
     "name": "stdout",
     "text": [
      "(262375, 1)\n",
      "(12875, 2)\n",
      "(34375, 3)\n"
     ]
    }
   ],
   "metadata": {
    "collapsed": false
   }
  },
  {
   "cell_type": "markdown",
   "source": [
    "### TAREFA 13\n",
    "1. Descubra quantas pessoas embarcaram por porto\n",
    "2. Agrupando por porto e sexo."
   ],
   "metadata": {}
  },
  {
   "cell_type": "code",
   "execution_count": 45,
   "source": [
    "# Insira seu código aqui\r\n",
    "consulta = \"\"\"select COUNT(ps.Embarked),ps.Embarked  from passageiros pr, passagens ps group by ps.Embarked\"\"\"\r\n",
    "executa_consulta(consulta)"
   ],
   "outputs": [
    {
     "output_type": "stream",
     "name": "stdout",
     "text": [
      "(1782, '')\n",
      "(149688, 'C')\n",
      "(68607, 'Q')\n",
      "(573804, 'S')\n"
     ]
    }
   ],
   "metadata": {
    "collapsed": false
   }
  },
  {
   "cell_type": "markdown",
   "source": [
    "## 3. Conclusão\n",
    "\n",
    "A quantidade de consultas e a lista de comandos SQL é enorme. A interação foi somente relembrar alguns comandos básicos para que você se sinta confortável para explorar qualquer banco de dados SQL que você encontrar.\n"
   ],
   "metadata": {}
  },
  {
   "cell_type": "markdown",
   "source": [
    "### Awari -  <a href=\"https://awari.com.br/\"> awari.com.br</a>"
   ],
   "metadata": {}
  }
 ],
 "metadata": {
  "anaconda-cloud": {},
  "kernelspec": {
   "name": "python3",
   "display_name": "Python 3.9.7 64-bit (windows store)"
  },
  "language_info": {
   "name": "python",
   "version": "3.9.7",
   "mimetype": "text/x-python",
   "codemirror_mode": {
    "name": "ipython",
    "version": 3
   },
   "pygments_lexer": "ipython3",
   "nbconvert_exporter": "python",
   "file_extension": ".py"
  },
  "interpreter": {
   "hash": "18bd2c9a2b40ea6b0737498cab996ac6fe30068265bfe7e2f0696687517443e8"
  }
 },
 "nbformat": 4,
 "nbformat_minor": 4
}